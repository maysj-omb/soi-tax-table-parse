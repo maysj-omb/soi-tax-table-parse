{
 "cells": [
  {
   "cell_type": "markdown",
   "metadata": {},
   "source": [
    "# Parsing Statistics of Income (SOI) Tax Tables from the IRS\n",
    "John Mays | maysj@omb.nyc.gov | Created: 03/11/25 | Last Updated: 03/11/25\n",
    "\n",
    "Data is from the \"Individual income tax returns with exemptions and itemized deductions > Publication 1304\" category on the [IRS.gov website](https://www.irs.gov/statistics/soi-tax-stats-individual-statistical-tables-by-size-of-adjusted-gross-income)."
   ]
  },
  {
   "cell_type": "code",
   "execution_count": 1,
   "metadata": {},
   "outputs": [],
   "source": [
    "import pandas as pd\n",
    "import re\n",
    "from pathlib import Path\n",
    "from tqdm import tqdm # cool arabic word here: taqadum (meaning: progress) = تقدم"
   ]
  },
  {
   "cell_type": "code",
   "execution_count": 2,
   "metadata": {},
   "outputs": [],
   "source": [
    "data_directory = Path('../data')"
   ]
  },
  {
   "cell_type": "markdown",
   "metadata": {},
   "source": [
    "## Collecting all of the files into dataframes:"
   ]
  },
  {
   "cell_type": "code",
   "execution_count": 3,
   "metadata": {},
   "outputs": [],
   "source": [
    "def collect_files(dir: Path) -> dict:\n",
    "    sheets = {}\n",
    "    for sheet_path in tqdm([path for path in data_directory.glob('*.xl*')]):\n",
    "        sheets[sheet_path.name] = pd.read_excel(sheet_path, header=None)\n",
    "    return sheets"
   ]
  },
  {
   "cell_type": "code",
   "execution_count": 4,
   "metadata": {},
   "outputs": [
    {
     "name": "stderr",
     "output_type": "stream",
     "text": [
      "100%|██████████| 2/2 [00:00<00:00, 14.70it/s]\n"
     ]
    }
   ],
   "source": [
    "sheets = collect_files(data_directory)"
   ]
  },
  {
   "cell_type": "markdown",
   "metadata": {},
   "source": [
    "## Finding the Total Returns Cells:"
   ]
  },
  {
   "cell_type": "code",
   "execution_count": 10,
   "metadata": {},
   "outputs": [],
   "source": [
    "sheet_names = list(sheets.keys())"
   ]
  },
  {
   "cell_type": "code",
   "execution_count": 11,
   "metadata": {},
   "outputs": [],
   "source": [
    "sheet = sheets[sheet_names[0]]"
   ]
  },
  {
   "cell_type": "code",
   "execution_count": 12,
   "metadata": {},
   "outputs": [],
   "source": [
    "def find_total_returns_cells(sheet:pd.DataFrame) -> list:\n",
    "    indices = []\n",
    "    for column in sheet.columns:\n",
    "        col_matches = sheet[column].str.match(\n",
    "            r\"^taxable[, ]*returns[, ]*total\", flags=re.IGNORECASE, na=False\n",
    "        )\n",
    "        row_indices = list(sheet.index[col_matches])\n",
    "        if row_indices:\n",
    "            indices += [(r, column) for r in row_indices]\n",
    "    return indices\n"
   ]
  },
  {
   "cell_type": "code",
   "execution_count": 13,
   "metadata": {},
   "outputs": [],
   "source": [
    "total_returns_cells = find_total_returns_cells(sheet)"
   ]
  },
  {
   "cell_type": "code",
   "execution_count": 14,
   "metadata": {},
   "outputs": [
    {
     "name": "stdout",
     "output_type": "stream",
     "text": [
      "row: 32, col: 0 -- Taxable returns, total\n"
     ]
    }
   ],
   "source": [
    "for row, col in total_returns_cells:\n",
    "    print(f'row: {row}, col: {col} -- {sheet.iloc[row, col]}')"
   ]
  },
  {
   "cell_type": "markdown",
   "metadata": {},
   "source": [
    "## Finding Likely Header Rows:\n",
    "In the data, the header rows are displayed like: (1) (2) (3)... or perhaps (11) (12) (13)...\n",
    "\n",
    "These can show up in one of two ways when imported into pandas: as negative or positive values.\n",
    "\n",
    "Either way, it is a repeating series of values horizontally decrementing or incrementing by 1, so it should be easy to find.\n"
   ]
  },
  {
   "cell_type": "code",
   "execution_count": 15,
   "metadata": {},
   "outputs": [],
   "source": [
    "likely_header_rows = []\n",
    "threshold = 5\n",
    "\n",
    "for row_index in sheet.index:\n",
    "    row = sheet.iloc[row_index, :]\n",
    "    one_increments = 0\n",
    "    prev_value = None\n",
    "    for value in row:\n",
    "        if isinstance(value, int) and isinstance(prev_value, int):\n",
    "            if abs(value - prev_value) == 1:\n",
    "                one_increments += 1\n",
    "        prev_value = value\n",
    "    if one_increments > threshold:\n",
    "        likely_header_rows.append(row_index)"
   ]
  },
  {
   "cell_type": "code",
   "execution_count": 16,
   "metadata": {},
   "outputs": [
    {
     "data": {
      "text/plain": [
       "[8]"
      ]
     },
     "execution_count": 16,
     "metadata": {},
     "output_type": "execute_result"
    }
   ],
   "source": [
    "likely_header_rows"
   ]
  },
  {
   "cell_type": "code",
   "execution_count": 17,
   "metadata": {},
   "outputs": [],
   "source": [
    "cell_index = total_returns_cells[0]\n",
    "cell = sheet.iloc[*cell_index]"
   ]
  },
  {
   "cell_type": "markdown",
   "metadata": {},
   "source": [
    "## Finding the values of the total returns:"
   ]
  },
  {
   "cell_type": "code",
   "execution_count": 18,
   "metadata": {},
   "outputs": [],
   "source": [
    "tr_row, tr_column = cell_index"
   ]
  },
  {
   "cell_type": "code",
   "execution_count": 19,
   "metadata": {},
   "outputs": [],
   "source": [
    "possible_numeric_indices = [(tr_row, col) for col in sheet.columns if col > tr_column]"
   ]
  },
  {
   "cell_type": "code",
   "execution_count": 30,
   "metadata": {},
   "outputs": [],
   "source": [
    "indices_and_tr_values = {}"
   ]
  },
  {
   "cell_type": "code",
   "execution_count": 31,
   "metadata": {},
   "outputs": [],
   "source": [
    "for index in possible_numeric_indices:\n",
    "    value = sheet.iloc[*index]\n",
    "    if isinstance(value, (int, float)): # then the value is numeric & valid\n",
    "        indices_and_tr_values[index] = value"
   ]
  },
  {
   "cell_type": "markdown",
   "metadata": {},
   "source": [
    "## Attaching total return values to numeric headers:"
   ]
  },
  {
   "cell_type": "code",
   "execution_count": 32,
   "metadata": {},
   "outputs": [],
   "source": [
    "numeric_headers_and_values = {}\n",
    "for index, value in indices_and_tr_values.items():\n",
    "    value_row, value_column = index\n",
    "    # finds the closest header row that is above this value:\n",
    "    corresponding_header_row = max([row for row in likely_header_rows if row < value_row])\n",
    "    numeric_header = sheet.iloc[corresponding_header_row, value_column]\n",
    "    numeric_headers_and_values[numeric_header] = value"
   ]
  },
  {
   "cell_type": "code",
   "execution_count": 33,
   "metadata": {},
   "outputs": [
    {
     "data": {
      "text/plain": [
       "{1: 13783612,\n",
       " 2: 4737746572,\n",
       " 3: 13783612,\n",
       " 4: 4784736388,\n",
       " 5: 11097679,\n",
       " 6: 2304629042,\n",
       " 7: 10637239,\n",
       " 8: 2205369313,\n",
       " 9: 2721,\n",
       " 10: 7565,\n",
       " 11: 2667,\n",
       " 12: 6394,\n",
       " 13: 84650,\n",
       " 14: 187509,\n",
       " 15: 3228,\n",
       " 16: 74672,\n",
       " 17: 181865,\n",
       " 18: 8656124,\n",
       " 19: 8346001,\n",
       " 20: 75637974,\n",
       " 21: 1725941,\n",
       " 22: 29355040,\n",
       " 23: 6063286,\n",
       " 24: 222577571,\n",
       " 25: 5776852,\n",
       " 26: 173186835,\n",
       " 27: 1890787,\n",
       " 28: 2575872,\n",
       " 29: 43472,\n",
       " 30: 3401942,\n",
       " 31: 2877489,\n",
       " 32: 104263506,\n",
       " 33: 5891527,\n",
       " 34: 837378355,\n",
       " 35: 507447,\n",
       " 36: 26050611,\n",
       " 37: 2380356,\n",
       " 38: 105221210,\n",
       " 39: 3673737,\n",
       " 40: 167433498,\n",
       " 41: 1228415,\n",
       " 42: 60280397,\n",
       " 43: 641653,\n",
       " 44: 18008406,\n",
       " 45: 66931,\n",
       " 46: 1422010,\n",
       " 47: 2498188,\n",
       " 48: 711667120,\n",
       " 49: 188263,\n",
       " 50: 28957237,\n",
       " 51: 178203,\n",
       " 52: -6114520,\n",
       " 53: 331424,\n",
       " 54: 2588016,\n",
       " 55: 3113328,\n",
       " 56: 77597406,\n",
       " 57: 84987,\n",
       " 58: 32868381,\n",
       " 59: 110130,\n",
       " 60: 1716333,\n",
       " 61: 81772,\n",
       " 62: 152475,\n",
       " 63: 11404,\n",
       " 64: 1151781,\n",
       " 65: 623646,\n",
       " 66: 46187767,\n",
       " 67: 1220221,\n",
       " 68: 19830594,\n",
       " 69: 3609379,\n",
       " 70: 46989816,\n",
       " 71: 589501631,\n",
       " 72: 2987125,\n",
       " 73: 51632868,\n",
       " 74: 2987125,\n",
       " 75: 76641311,\n",
       " 76: 2987128,\n",
       " 77: 25008444,\n",
       " 78: 13653896,\n",
       " 79: 116768661,\n",
       " 80: 13614254,\n",
       " 81: 384453855,\n",
       " 82: 13322551,\n",
       " 83: 280597706,\n",
       " 84: 10330041,\n",
       " 85: 253151131,\n",
       " 86: 2992511,\n",
       " 87: 27446575,\n",
       " 88: 11949472,\n",
       " 89: 100100423,\n",
       " 90: 5261519,\n",
       " 91: 4074587,\n",
       " 92: 13614254,\n",
       " 93: 113692123,\n",
       " 94: 778340,\n",
       " 95: 2757676,\n",
       " 96: 11070094,\n",
       " 97: 157741567,\n",
       " 98: 10849919,\n",
       " 99: 135310044,\n",
       " 100: 10833351,\n",
       " 101: 134194200,\n",
       " 102: 10693631,\n",
       " 103: 131595819,\n",
       " 104: 252668,\n",
       " 105: 2599513,\n",
       " 106: 732412,\n",
       " 107: 1055507,\n",
       " 108: 763793,\n",
       " 109: 22431523,\n",
       " 110: 11229336,\n",
       " 111: 214634750,\n",
       " 112: 10352573,\n",
       " 113: 149764497,\n",
       " 114: 6045273,\n",
       " 115: 118254262,\n",
       " 116: 177637,\n",
       " 117: 11968946,\n",
       " 118: 930558,\n",
       " 119: 47869338,\n",
       " 120: 584623,\n",
       " 121: 40977085,\n",
       " 122: 330409,\n",
       " 123: 5136557,\n",
       " 124: 13779729,\n",
       " 125: 4038722206,\n",
       " 126: 109595,\n",
       " 127: 2849082,\n",
       " 128: 282857,\n",
       " 129: 912250,\n",
       " 130: 13776427,\n",
       " 131: 984998160,\n",
       " 132: 6564513,\n",
       " 133: 36393793,\n",
       " 134: 13768889,\n",
       " 135: 947692501,\n",
       " 136: 13783612,\n",
       " 137: 977279714}"
      ]
     },
     "execution_count": 33,
     "metadata": {},
     "output_type": "execute_result"
    }
   ],
   "source": [
    "numeric_headers_and_values"
   ]
  },
  {
   "cell_type": "markdown",
   "metadata": {},
   "source": [
    "## Associating Numeric Headers with Text Headers:"
   ]
  },
  {
   "cell_type": "code",
   "execution_count": 28,
   "metadata": {},
   "outputs": [],
   "source": [
    "limit = 7"
   ]
  },
  {
   "cell_type": "markdown",
   "metadata": {},
   "source": [
    "### Associating headers with indices:"
   ]
  },
  {
   "cell_type": "code",
   "execution_count": 54,
   "metadata": {},
   "outputs": [],
   "source": [
    "indices_and_numeric_headers = {}\n",
    "\n",
    "for header_row_index in likely_header_rows:\n",
    "    header_row = sheet.iloc[header_row_index, :]\n",
    "    for potential_header_column, potential_header in zip(header_row.index, header_row):\n",
    "        if isinstance(potential_header, int) and potential_header < 1000:\n",
    "            header_index = (header_row_index, potential_header_column)\n",
    "            indices_and_numeric_headers[header_index] = potential_header"
   ]
  },
  {
   "cell_type": "code",
   "execution_count": null,
   "metadata": {},
   "outputs": [],
   "source": []
  },
  {
   "cell_type": "code",
   "execution_count": 58,
   "metadata": {},
   "outputs": [
    {
     "name": "stdout",
     "output_type": "stream",
     "text": [
      "[nan, nan, 'Number\\nof\\nreturns', nan, nan, nan, nan]\n",
      "[nan, nan, 'Adjusted\\ngross income\\nless deficit', nan, nan, nan, nan]\n",
      "[nan, nan, 'Total income', nan, nan, nan, 'Number of\\nreturns']\n",
      "[nan, nan, nan, nan, nan, nan, 'Amount']\n",
      "[nan, nan, 'Total wages', 'Total [1]', nan, nan, 'Number of\\nreturns']\n",
      "[nan, nan, nan, nan, nan, nan, 'Amount']\n",
      "[nan, nan, nan, 'Total from\\nForm W-2 wages', nan, nan, 'Number of\\nreturns']\n",
      "[nan, nan, nan, nan, nan, nan, 'Amount']\n",
      "[nan, nan, nan, 'Household employee wages\\nnot reported on Form W-2', nan, nan, 'Number of\\nreturns']\n",
      "[nan, nan, nan, nan, nan, nan, 'Amount']\n",
      "[nan, nan, nan, 'Tip income not reported\\non Form W-2 wages', nan, nan, 'Number of\\nreturns']\n",
      "[nan, nan, nan, nan, nan, nan, 'Amount']\n"
     ]
    }
   ],
   "source": [
    "for header_index, numeric_header in indices_and_numeric_headers.items():\n",
    "    header_row, header_col = header_index\n",
    "    lesser_row_index = max(header_row-8, 0)\n",
    "    greater_row_index = max(header_row-1, 0)\n",
    "    text_header_segments = list(sheet.iloc[lesser_row_index:greater_row_index, header_col])\n",
    "    print(text_header_segments)\n",
    "    if header_col == 12:\n",
    "        break"
   ]
  },
  {
   "cell_type": "code",
   "execution_count": null,
   "metadata": {},
   "outputs": [],
   "source": []
  }
 ],
 "metadata": {
  "kernelspec": {
   "display_name": "venv",
   "language": "python",
   "name": "python3"
  },
  "language_info": {
   "codemirror_mode": {
    "name": "ipython",
    "version": 3
   },
   "file_extension": ".py",
   "mimetype": "text/x-python",
   "name": "python",
   "nbconvert_exporter": "python",
   "pygments_lexer": "ipython3",
   "version": "3.12.6"
  }
 },
 "nbformat": 4,
 "nbformat_minor": 2
}
