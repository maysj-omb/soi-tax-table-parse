{
 "cells": [
  {
   "cell_type": "markdown",
   "metadata": {},
   "source": [
    "# Parsing Statistics of Income (SOI) Tax Tables from the IRS\n",
    "John Mays | maysj@omb.nyc.gov | Created: 03/11/25 | Last Updated: 03/12/25\n",
    "\n",
    "Data is from the \"Individual income tax returns with exemptions and itemized deductions > Publication 1304\" category on the [IRS.gov website](https://www.irs.gov/statistics/soi-tax-stats-individual-statistical-tables-by-size-of-adjusted-gross-income)."
   ]
  },
  {
   "cell_type": "code",
   "execution_count": 1,
   "metadata": {},
   "outputs": [],
   "source": [
    "import pandas as pd\n",
    "import re\n",
    "from pathlib import Path\n",
    "from tqdm import tqdm # cool arabic word here: taqadum (meaning: progress) = تقدم"
   ]
  },
  {
   "cell_type": "code",
   "execution_count": 2,
   "metadata": {},
   "outputs": [],
   "source": [
    "data_directory = Path('../data')"
   ]
  },
  {
   "cell_type": "markdown",
   "metadata": {},
   "source": [
    "## Helper Methods:"
   ]
  },
  {
   "cell_type": "code",
   "execution_count": 32,
   "metadata": {},
   "outputs": [],
   "source": [
    "def find_total_returns_label_cells(sheet:pd.DataFrame) -> list:\n",
    "    indices = []\n",
    "    for column in sheet.columns:\n",
    "        col_matches = sheet[column].str.match(\n",
    "            r\"^taxable[, ]*returns[, ]*total\", flags=re.IGNORECASE, na=False\n",
    "        )\n",
    "        row_indices = list(sheet.index[col_matches])\n",
    "        if row_indices:\n",
    "            indices += [(r, column) for r in row_indices]\n",
    "    return indices"
   ]
  },
  {
   "cell_type": "markdown",
   "metadata": {},
   "source": [
    "#### Finding Likely Header Rows:\n",
    "In the data, the header rows are displayed like: (1) (2) (3)... or perhaps (11) (12) (13)...\n",
    "\n",
    "These can show up in one of two ways when imported into pandas: as negative or positive values.  But, either way, it is a repeating series of values horizontally decrementing or incrementing by 1, so it should be easy to find.\n"
   ]
  },
  {
   "cell_type": "code",
   "execution_count": 4,
   "metadata": {},
   "outputs": [],
   "source": [
    "def find_likely_header_rows(sheet: pd.DataFrame, threshold=5) -> list:\n",
    "    likely_header_rows = []\n",
    "\n",
    "    for row_index in sheet.index:\n",
    "        row = sheet.iloc[row_index, :]\n",
    "        one_increments = 0\n",
    "        prev_value = None\n",
    "        for value in row:\n",
    "            if isinstance(value, int) and isinstance(prev_value, int):\n",
    "                if abs(value - prev_value) == 1:\n",
    "                    one_increments += 1\n",
    "            prev_value = value\n",
    "        if one_increments > threshold:\n",
    "            likely_header_rows.append(row_index)\n",
    "    return likely_header_rows"
   ]
  },
  {
   "cell_type": "code",
   "execution_count": 10,
   "metadata": {},
   "outputs": [],
   "source": [
    "def find_tax_year(file_name:str) -> int:\n",
    "    yy = file_name[0:2]\n",
    "    cc = '19' if int(yy) >= 90 else '20'\n",
    "    return int(cc + yy)"
   ]
  },
  {
   "cell_type": "code",
   "execution_count": 17,
   "metadata": {},
   "outputs": [],
   "source": [
    "def assemble_header(segments:list):\n",
    "    segments_text_only = [s for s in segments if isinstance(s, str)]\n",
    "    header = '_'.join(segments_text_only)\n",
    "    header = re.sub(r\"\\[|\\]|-| |_|\\\\|\\/|//|\\n\", \"_\", header) # replace special chars\n",
    "    header = '_'.join([s for s in header.split('_') if s != '']) # de-duplicate underscores\n",
    "    header = header.lower()\n",
    "    return header"
   ]
  },
  {
   "cell_type": "code",
   "execution_count": 20,
   "metadata": {},
   "outputs": [],
   "source": [
    "def supplement_inadequate_text_headers(num_to_text_headers: dict) -> dict:\n",
    "    for num_header, text_header in numeric_to_text_headers.items():\n",
    "        if text_header == 'amount':\n",
    "            # extract prefix info from the col before it:\n",
    "            try:\n",
    "                preceeding_col_index = -(abs(num_header)-1) if num_header < 0 else abs(num_header)-1\n",
    "                preceeding_col_name = num_to_text_headers[preceeding_col_index]\n",
    "                search_result = re.search('number', preceeding_col_name)\n",
    "                if search_result:\n",
    "                    prefix_end_index = search_result.span()[0]\n",
    "                    prefix = preceeding_col_name[0:prefix_end_index]\n",
    "                    num_to_text_headers[num_header] = prefix + text_header\n",
    "            except KeyError:\n",
    "                pass\n",
    "    return num_to_text_headers"
   ]
  },
  {
   "cell_type": "markdown",
   "metadata": {},
   "source": [
    "## Collecting all of the files into dataframes:"
   ]
  },
  {
   "cell_type": "code",
   "execution_count": 5,
   "metadata": {},
   "outputs": [],
   "source": [
    "def collect_files(dir: Path) -> dict:\n",
    "    sheets = {}\n",
    "    for sheet_path in tqdm([path for path in data_directory.glob('*.xl*')]):\n",
    "        sheets[sheet_path.name] = pd.read_excel(sheet_path, header=None)\n",
    "    return sheets"
   ]
  },
  {
   "cell_type": "code",
   "execution_count": 6,
   "metadata": {},
   "outputs": [
    {
     "name": "stderr",
     "output_type": "stream",
     "text": [
      "100%|██████████| 2/2 [00:00<00:00,  2.47it/s]\n"
     ]
    }
   ],
   "source": [
    "sheets = collect_files(data_directory)"
   ]
  },
  {
   "cell_type": "markdown",
   "metadata": {},
   "source": [
    "## Parsing the sheets:"
   ]
  },
  {
   "cell_type": "code",
   "execution_count": 8,
   "metadata": {},
   "outputs": [],
   "source": [
    "logging = True"
   ]
  },
  {
   "cell_type": "code",
   "execution_count": 48,
   "metadata": {},
   "outputs": [
    {
     "name": "stderr",
     "output_type": "stream",
     "text": [
      "100%|██████████| 2/2 [00:00<00:00, 11.96it/s]"
     ]
    },
    {
     "name": "stdout",
     "output_type": "stream",
     "text": [
      "Sheet: 22in21id.xls, Year: 2022\n",
      "Sheet: 99in21id.xls, Year: 1999\n"
     ]
    },
    {
     "name": "stderr",
     "output_type": "stream",
     "text": [
      "\n"
     ]
    }
   ],
   "source": [
    "total_returns_dicts = {}\n",
    "\n",
    "for sheet_name, sheet in tqdm(sheets.items()):\n",
    "    tax_year = find_tax_year(sheet_name)\n",
    "    print(f'Sheet: {sheet_name}, Year: {tax_year}')\n",
    "    # finding cells with \"total returns\" -- the value we want\n",
    "    total_returns_label_cells = find_total_returns_label_cells(sheet)\n",
    "    # finding likely header rows:\n",
    "    likely_header_rows = find_likely_header_rows(sheet, threshold=5)\n",
    "    # finding the numeric values of the total returns:\n",
    "    indices_and_tr_values = {}\n",
    "    for total_returns_cell_index in total_returns_label_cells:\n",
    "        tr_row, tr_column = total_returns_cell_index\n",
    "        total_returns_cell = sheet.iloc[*total_returns_cell_index]\n",
    "        possible_numeric_value_indices = [(tr_row, col) for col in sheet.columns if col > tr_column]\n",
    "        for index in possible_numeric_value_indices:\n",
    "            value = sheet.iloc[*index]\n",
    "            if isinstance(value, (int, float)): # then the value is numeric & valid\n",
    "                indices_and_tr_values[index] = value\n",
    "    # finding the total returns' corresponding headers:\n",
    "    numeric_headers_and_values = {}\n",
    "    for index, value in indices_and_tr_values.items():\n",
    "        value_row, value_column = index\n",
    "        # finds the closest header row that is above this value:\n",
    "        corresponding_header_row = max([row for row in likely_header_rows if row < value_row])\n",
    "        numeric_header = sheet.iloc[corresponding_header_row, value_column]\n",
    "        numeric_headers_and_values[numeric_header] = value\n",
    "    # finding indices for the numeric headers:\n",
    "    indices_and_numeric_headers = {}\n",
    "    for header_row_index in likely_header_rows:\n",
    "        header_row = sheet.iloc[header_row_index, :]\n",
    "        for potential_header_column, potential_header in zip(header_row.index, header_row):\n",
    "            if isinstance(potential_header, int) and potential_header < 1000:\n",
    "                header_index = (header_row_index, potential_header_column)\n",
    "                indices_and_numeric_headers[header_index] = potential_header\n",
    "    # associating the numeric to the text headers:\n",
    "    numeric_to_text_headers = {}\n",
    "    for header_index, numeric_header in indices_and_numeric_headers.items():\n",
    "        header_row, header_col = header_index\n",
    "        lesser_row_index = max(header_row-8, 0)\n",
    "        greater_row_index = max(header_row, 0)\n",
    "        text_header_segments = list(sheet.iloc[lesser_row_index:greater_row_index, header_col])\n",
    "        numeric_to_text_headers[numeric_header] = assemble_header(text_header_segments)\n",
    "\n",
    "    # patch some of the headers which could only find further title text one cell over:\n",
    "    numeric_to_text_headers = supplement_inadequate_text_headers(numeric_to_text_headers)\n",
    "\n",
    "    # Associating values with text headers:\n",
    "    text_headers_and_values = {}\n",
    "    all_numeric_headers = set(numeric_headers_and_values.keys()).union(numeric_to_text_headers.keys())\n",
    "    for numeric_header in all_numeric_headers:\n",
    "        try:\n",
    "            text_header = numeric_to_text_headers[numeric_header]\n",
    "            value = numeric_headers_and_values[numeric_header]\n",
    "            text_headers_and_values[text_header] = value\n",
    "        except KeyError:\n",
    "            pass\n",
    "    # add tax_year as a header/value pair as well:\n",
    "    # text_headers_and_values['tax_year'] = tax_year\n",
    "    total_returns_dicts[tax_year] = text_headers_and_values"
   ]
  },
  {
   "cell_type": "code",
   "execution_count": 50,
   "metadata": {},
   "outputs": [],
   "source": [
    "total_returns = pd.DataFrame.from_records(total_returns_dicts)"
   ]
  },
  {
   "cell_type": "code",
   "execution_count": 51,
   "metadata": {},
   "outputs": [
    {
     "data": {
      "text/html": [
       "<div>\n",
       "<style scoped>\n",
       "    .dataframe tbody tr th:only-of-type {\n",
       "        vertical-align: middle;\n",
       "    }\n",
       "\n",
       "    .dataframe tbody tr th {\n",
       "        vertical-align: top;\n",
       "    }\n",
       "\n",
       "    .dataframe thead th {\n",
       "        text-align: right;\n",
       "    }\n",
       "</style>\n",
       "<table border=\"1\" class=\"dataframe\">\n",
       "  <thead>\n",
       "    <tr style=\"text-align: right;\">\n",
       "      <th></th>\n",
       "      <th>1999</th>\n",
       "      <th>2022</th>\n",
       "    </tr>\n",
       "  </thead>\n",
       "  <tbody>\n",
       "    <tr>\n",
       "      <th>dividends_number_of_returns</th>\n",
       "      <td>16803873.0</td>\n",
       "      <td>NaN</td>\n",
       "    </tr>\n",
       "    <tr>\n",
       "      <th>total_income_tax_amount</th>\n",
       "      <td>667631592.0</td>\n",
       "      <td>977279714.0</td>\n",
       "    </tr>\n",
       "    <tr>\n",
       "      <th>total_income_tax_number_of_returns</th>\n",
       "      <td>37532174.0</td>\n",
       "      <td>13783612.0</td>\n",
       "    </tr>\n",
       "    <tr>\n",
       "      <th>alternative_minimum_tax_amount</th>\n",
       "      <td>5980764.0</td>\n",
       "      <td>2849082.0</td>\n",
       "    </tr>\n",
       "    <tr>\n",
       "      <th>alternative_minimum_tax_number_of_returns</th>\n",
       "      <td>920953.0</td>\n",
       "      <td>109595.0</td>\n",
       "    </tr>\n",
       "  </tbody>\n",
       "</table>\n",
       "</div>"
      ],
      "text/plain": [
       "                                                  1999         2022\n",
       "dividends_number_of_returns                 16803873.0          NaN\n",
       "total_income_tax_amount                    667631592.0  977279714.0\n",
       "total_income_tax_number_of_returns          37532174.0   13783612.0\n",
       "alternative_minimum_tax_amount               5980764.0    2849082.0\n",
       "alternative_minimum_tax_number_of_returns     920953.0     109595.0"
      ]
     },
     "execution_count": 51,
     "metadata": {},
     "output_type": "execute_result"
    }
   ],
   "source": [
    "total_returns.head()"
   ]
  }
 ],
 "metadata": {
  "kernelspec": {
   "display_name": "venv",
   "language": "python",
   "name": "python3"
  },
  "language_info": {
   "codemirror_mode": {
    "name": "ipython",
    "version": 3
   },
   "file_extension": ".py",
   "mimetype": "text/x-python",
   "name": "python",
   "nbconvert_exporter": "python",
   "pygments_lexer": "ipython3",
   "version": "3.12.6"
  }
 },
 "nbformat": 4,
 "nbformat_minor": 2
}
