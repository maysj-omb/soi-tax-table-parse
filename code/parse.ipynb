{
 "cells": [
  {
   "cell_type": "markdown",
   "metadata": {},
   "source": [
    "# Parsing Statistics of Income (SOI) Tax Tables from the IRS\n",
    "John Mays | maysj@omb.nyc.gov | Created: 03/11/25 | Last Updated: 03/11/25\n",
    "\n",
    "Data is from the \"Individual income tax returns with exemptions and itemized deductions > Publication 1304\" category on the [IRS.gov website](https://www.irs.gov/statistics/soi-tax-stats-individual-statistical-tables-by-size-of-adjusted-gross-income)."
   ]
  },
  {
   "cell_type": "code",
   "execution_count": 1,
   "metadata": {},
   "outputs": [],
   "source": [
    "import pandas as pd\n",
    "import re\n",
    "from pathlib import Path\n",
    "from tqdm import tqdm # cool arabic word here: taqadum (meaning: progress) = تقدم"
   ]
  },
  {
   "cell_type": "code",
   "execution_count": 2,
   "metadata": {},
   "outputs": [],
   "source": [
    "data_directory = Path('../data')"
   ]
  },
  {
   "cell_type": "markdown",
   "metadata": {},
   "source": [
    "## Collecting all of the files into dataframes:"
   ]
  },
  {
   "cell_type": "code",
   "execution_count": 3,
   "metadata": {},
   "outputs": [],
   "source": [
    "def collect_files(dir: Path) -> dict:\n",
    "    sheets = {}\n",
    "    for sheet_path in tqdm([path for path in data_directory.glob('*.xl*')]):\n",
    "        sheets[sheet_path.name] = pd.read_excel(sheet_path, header=None)\n",
    "    return sheets"
   ]
  },
  {
   "cell_type": "code",
   "execution_count": 4,
   "metadata": {},
   "outputs": [
    {
     "name": "stderr",
     "output_type": "stream",
     "text": [
      "100%|██████████| 2/2 [00:00<00:00, 14.70it/s]\n"
     ]
    }
   ],
   "source": [
    "sheets = collect_files(data_directory)"
   ]
  },
  {
   "cell_type": "markdown",
   "metadata": {},
   "source": [
    "## Finding the Total Returns Cells:"
   ]
  },
  {
   "cell_type": "code",
   "execution_count": 10,
   "metadata": {},
   "outputs": [],
   "source": [
    "sheet_names = list(sheets.keys())"
   ]
  },
  {
   "cell_type": "code",
   "execution_count": 11,
   "metadata": {},
   "outputs": [],
   "source": [
    "sheet = sheets[sheet_names[0]]"
   ]
  },
  {
   "cell_type": "code",
   "execution_count": 12,
   "metadata": {},
   "outputs": [],
   "source": [
    "def find_total_returns_cells(sheet:pd.DataFrame) -> list:\n",
    "    indices = []\n",
    "    for column in sheet.columns:\n",
    "        col_matches = sheet[column].str.match(\n",
    "            r\"^taxable[, ]*returns[, ]*total\", flags=re.IGNORECASE, na=False\n",
    "        )\n",
    "        row_indices = list(sheet.index[col_matches])\n",
    "        if row_indices:\n",
    "            indices += [(r, column) for r in row_indices]\n",
    "    return indices\n"
   ]
  },
  {
   "cell_type": "code",
   "execution_count": 13,
   "metadata": {},
   "outputs": [],
   "source": [
    "total_returns_cells = find_total_returns_cells(sheet)"
   ]
  },
  {
   "cell_type": "code",
   "execution_count": 14,
   "metadata": {},
   "outputs": [
    {
     "name": "stdout",
     "output_type": "stream",
     "text": [
      "row: 32, col: 0 -- Taxable returns, total\n"
     ]
    }
   ],
   "source": [
    "for row, col in total_returns_cells:\n",
    "    print(f'row: {row}, col: {col} -- {sheet.iloc[row, col]}')"
   ]
  },
  {
   "cell_type": "markdown",
   "metadata": {},
   "source": [
    "## Finding Likely Header Rows:\n",
    "In the data, the header rows are displayed like: (1) (2) (3)... or perhaps (11) (12) (13)...\n",
    "\n",
    "These can show up in one of two ways when imported into pandas: as negative or positive values.\n",
    "\n",
    "Either way, it is a repeating series of values horizontally decrementing or incrementing by 1, so it should be easy to find.\n"
   ]
  },
  {
   "cell_type": "code",
   "execution_count": 15,
   "metadata": {},
   "outputs": [],
   "source": [
    "likely_header_rows = []\n",
    "threshold = 5\n",
    "\n",
    "for row_index in sheet.index:\n",
    "    row = sheet.iloc[row_index, :]\n",
    "    one_increments = 0\n",
    "    prev_value = None\n",
    "    for value in row:\n",
    "        if isinstance(value, int) and isinstance(prev_value, int):\n",
    "            if abs(value - prev_value) == 1:\n",
    "                one_increments += 1\n",
    "        prev_value = value\n",
    "    if one_increments > threshold:\n",
    "        likely_header_rows.append(row_index)"
   ]
  },
  {
   "cell_type": "code",
   "execution_count": 16,
   "metadata": {},
   "outputs": [
    {
     "data": {
      "text/plain": [
       "[8]"
      ]
     },
     "execution_count": 16,
     "metadata": {},
     "output_type": "execute_result"
    }
   ],
   "source": [
    "likely_header_rows"
   ]
  },
  {
   "cell_type": "code",
   "execution_count": 17,
   "metadata": {},
   "outputs": [],
   "source": [
    "cell_index = total_returns_cells[0]\n",
    "cell = sheet.iloc[*cell_index]"
   ]
  },
  {
   "cell_type": "markdown",
   "metadata": {},
   "source": [
    "## Finding the values of the total returns:"
   ]
  },
  {
   "cell_type": "code",
   "execution_count": 18,
   "metadata": {},
   "outputs": [],
   "source": [
    "tr_row, tr_column = cell_index"
   ]
  },
  {
   "cell_type": "code",
   "execution_count": 19,
   "metadata": {},
   "outputs": [],
   "source": [
    "possible_numeric_indices = [(tr_row, col) for col in sheet.columns if col > tr_column]"
   ]
  },
  {
   "cell_type": "code",
   "execution_count": 30,
   "metadata": {},
   "outputs": [],
   "source": [
    "indices_and_tr_values = {}"
   ]
  },
  {
   "cell_type": "code",
   "execution_count": 31,
   "metadata": {},
   "outputs": [],
   "source": [
    "for index in possible_numeric_indices:\n",
    "    value = sheet.iloc[*index]\n",
    "    if isinstance(value, (int, float)): # then the value is numeric & valid\n",
    "        indices_and_tr_values[index] = value"
   ]
  },
  {
   "cell_type": "markdown",
   "metadata": {},
   "source": [
    "## Attaching total return values to numeric headers:"
   ]
  },
  {
   "cell_type": "code",
   "execution_count": 32,
   "metadata": {},
   "outputs": [],
   "source": [
    "numeric_headers_and_values = {}\n",
    "for index, value in indices_and_tr_values.items():\n",
    "    value_row, value_column = index\n",
    "    # finds the closest header row that is above this value:\n",
    "    corresponding_header_row = max([row for row in likely_header_rows if row < value_row])\n",
    "    numeric_header = sheet.iloc[corresponding_header_row, value_column]\n",
    "    numeric_headers_and_values[numeric_header] = value"
   ]
  },
  {
   "cell_type": "code",
   "execution_count": 33,
   "metadata": {},
   "outputs": [
    {
     "data": {
      "text/plain": [
       "{1: 13783612,\n",
       " 2: 4737746572,\n",
       " 3: 13783612,\n",
       " 4: 4784736388,\n",
       " 5: 11097679,\n",
       " 6: 2304629042,\n",
       " 7: 10637239,\n",
       " 8: 2205369313,\n",
       " 9: 2721,\n",
       " 10: 7565,\n",
       " 11: 2667,\n",
       " 12: 6394,\n",
       " 13: 84650,\n",
       " 14: 187509,\n",
       " 15: 3228,\n",
       " 16: 74672,\n",
       " 17: 181865,\n",
       " 18: 8656124,\n",
       " 19: 8346001,\n",
       " 20: 75637974,\n",
       " 21: 1725941,\n",
       " 22: 29355040,\n",
       " 23: 6063286,\n",
       " 24: 222577571,\n",
       " 25: 5776852,\n",
       " 26: 173186835,\n",
       " 27: 1890787,\n",
       " 28: 2575872,\n",
       " 29: 43472,\n",
       " 30: 3401942,\n",
       " 31: 2877489,\n",
       " 32: 104263506,\n",
       " 33: 5891527,\n",
       " 34: 837378355,\n",
       " 35: 507447,\n",
       " 36: 26050611,\n",
       " 37: 2380356,\n",
       " 38: 105221210,\n",
       " 39: 3673737,\n",
       " 40: 167433498,\n",
       " 41: 1228415,\n",
       " 42: 60280397,\n",
       " 43: 641653,\n",
       " 44: 18008406,\n",
       " 45: 66931,\n",
       " 46: 1422010,\n",
       " 47: 2498188,\n",
       " 48: 711667120,\n",
       " 49: 188263,\n",
       " 50: 28957237,\n",
       " 51: 178203,\n",
       " 52: -6114520,\n",
       " 53: 331424,\n",
       " 54: 2588016,\n",
       " 55: 3113328,\n",
       " 56: 77597406,\n",
       " 57: 84987,\n",
       " 58: 32868381,\n",
       " 59: 110130,\n",
       " 60: 1716333,\n",
       " 61: 81772,\n",
       " 62: 152475,\n",
       " 63: 11404,\n",
       " 64: 1151781,\n",
       " 65: 623646,\n",
       " 66: 46187767,\n",
       " 67: 1220221,\n",
       " 68: 19830594,\n",
       " 69: 3609379,\n",
       " 70: 46989816,\n",
       " 71: 589501631,\n",
       " 72: 2987125,\n",
       " 73: 51632868,\n",
       " 74: 2987125,\n",
       " 75: 76641311,\n",
       " 76: 2987128,\n",
       " 77: 25008444,\n",
       " 78: 13653896,\n",
       " 79: 116768661,\n",
       " 80: 13614254,\n",
       " 81: 384453855,\n",
       " 82: 13322551,\n",
       " 83: 280597706,\n",
       " 84: 10330041,\n",
       " 85: 253151131,\n",
       " 86: 2992511,\n",
       " 87: 27446575,\n",
       " 88: 11949472,\n",
       " 89: 100100423,\n",
       " 90: 5261519,\n",
       " 91: 4074587,\n",
       " 92: 13614254,\n",
       " 93: 113692123,\n",
       " 94: 778340,\n",
       " 95: 2757676,\n",
       " 96: 11070094,\n",
       " 97: 157741567,\n",
       " 98: 10849919,\n",
       " 99: 135310044,\n",
       " 100: 10833351,\n",
       " 101: 134194200,\n",
       " 102: 10693631,\n",
       " 103: 131595819,\n",
       " 104: 252668,\n",
       " 105: 2599513,\n",
       " 106: 732412,\n",
       " 107: 1055507,\n",
       " 108: 763793,\n",
       " 109: 22431523,\n",
       " 110: 11229336,\n",
       " 111: 214634750,\n",
       " 112: 10352573,\n",
       " 113: 149764497,\n",
       " 114: 6045273,\n",
       " 115: 118254262,\n",
       " 116: 177637,\n",
       " 117: 11968946,\n",
       " 118: 930558,\n",
       " 119: 47869338,\n",
       " 120: 584623,\n",
       " 121: 40977085,\n",
       " 122: 330409,\n",
       " 123: 5136557,\n",
       " 124: 13779729,\n",
       " 125: 4038722206,\n",
       " 126: 109595,\n",
       " 127: 2849082,\n",
       " 128: 282857,\n",
       " 129: 912250,\n",
       " 130: 13776427,\n",
       " 131: 984998160,\n",
       " 132: 6564513,\n",
       " 133: 36393793,\n",
       " 134: 13768889,\n",
       " 135: 947692501,\n",
       " 136: 13783612,\n",
       " 137: 977279714}"
      ]
     },
     "execution_count": 33,
     "metadata": {},
     "output_type": "execute_result"
    }
   ],
   "source": [
    "numeric_headers_and_values"
   ]
  },
  {
   "cell_type": "markdown",
   "metadata": {},
   "source": [
    "## Associating Numeric Headers with Text Headers:"
   ]
  },
  {
   "cell_type": "code",
   "execution_count": 28,
   "metadata": {},
   "outputs": [],
   "source": [
    "limit = 7"
   ]
  },
  {
   "cell_type": "markdown",
   "metadata": {},
   "source": [
    "### Associating headers with indices:"
   ]
  },
  {
   "cell_type": "code",
   "execution_count": 54,
   "metadata": {},
   "outputs": [],
   "source": [
    "indices_and_numeric_headers = {}\n",
    "\n",
    "for header_row_index in likely_header_rows:\n",
    "    header_row = sheet.iloc[header_row_index, :]\n",
    "    for potential_header_column, potential_header in zip(header_row.index, header_row):\n",
    "        if isinstance(potential_header, int) and potential_header < 1000:\n",
    "            header_index = (header_row_index, potential_header_column)\n",
    "            indices_and_numeric_headers[header_index] = potential_header"
   ]
  },
  {
   "cell_type": "code",
   "execution_count": 103,
   "metadata": {},
   "outputs": [],
   "source": [
    "def assemble_header(segments:list):\n",
    "    segments_text_only = [s for s in segments if isinstance(s, str)]\n",
    "    header = '_'.join(segments_text_only)\n",
    "    header = re.sub(r\"\\[|\\]|-| |_|\\\\|\\/|//|\\n\", \"_\", header) # replace special chars\n",
    "    header = '_'.join([s for s in header.split('_') if s != '']) # de-duplicate underscores\n",
    "    header = header.lower()\n",
    "    return header"
   ]
  },
  {
   "cell_type": "code",
   "execution_count": 104,
   "metadata": {},
   "outputs": [
    {
     "name": "stdout",
     "output_type": "stream",
     "text": [
      "amount\n"
     ]
    }
   ],
   "source": [
    "print(assemble_header(text_header_segments))"
   ]
  },
  {
   "cell_type": "code",
   "execution_count": 105,
   "metadata": {},
   "outputs": [],
   "source": [
    "numeric_to_text_headers = {}\n",
    "\n",
    "for header_index, numeric_header in indices_and_numeric_headers.items():\n",
    "    header_row, header_col = header_index\n",
    "    lesser_row_index = max(header_row-8, 0)\n",
    "    greater_row_index = max(header_row-1, 0)\n",
    "    text_header_segments = list(sheet.iloc[lesser_row_index:greater_row_index, header_col])\n",
    "    numeric_to_text_headers[numeric_header] = assemble_header(text_header_segments)"
   ]
  },
  {
   "cell_type": "code",
   "execution_count": 107,
   "metadata": {},
   "outputs": [
    {
     "data": {
      "text/plain": [
       "{1: 'number_of_returns',\n",
       " 2: 'adjusted_gross_income_less_deficit',\n",
       " 3: 'total_income_number_of_returns',\n",
       " 4: 'amount',\n",
       " 5: 'total_wages_total_1_number_of_returns',\n",
       " 6: 'amount',\n",
       " 7: 'total_from_form_w_2_wages_number_of_returns',\n",
       " 8: 'amount',\n",
       " 9: 'household_employee_wages_not_reported_on_form_w_2_number_of_returns',\n",
       " 10: 'amount',\n",
       " 11: 'tip_income_not_reported_on_form_w_2_wages_number_of_returns',\n",
       " 12: 'amount',\n",
       " 13: 'taxable_dependent_care_benefits_from_form_2441_number_of_returns',\n",
       " 14: 'amount',\n",
       " 15: 'wages_from_form_8919_number_of_returns',\n",
       " 16: 'amount',\n",
       " 17: 'other_earned_income_number_of_returns',\n",
       " 18: 'amount',\n",
       " 19: 'taxable_interest_number_of_returns',\n",
       " 20: 'amount',\n",
       " 21: 'tax_exempt_interest_2_number_of_returns',\n",
       " 22: 'amount',\n",
       " 23: 'ordinary_dividends_number_of_returns',\n",
       " 24: 'amount',\n",
       " 25: 'qualified_dividends_2_number_of_returns',\n",
       " 26: 'amount',\n",
       " 27: 'state_income_tax_refunds_number_of_returns',\n",
       " 28: 'amount',\n",
       " 29: 'alimony_received_number_of_returns',\n",
       " 30: 'amount',\n",
       " 31: 'business_or_profession_net_income_less_loss_number_of_returns',\n",
       " 32: 'amount',\n",
       " 33: 'sales_of_capital_assets,_net_gain_less_loss_number_of_returns',\n",
       " 34: 'amount',\n",
       " 35: 'sales_of_property_other_than_capital_assets,_net_gain_less_loss_number_of_returns',\n",
       " 36: 'amount',\n",
       " 37: 'taxable_individual_retirement_arrangement_(ira)_distributions_number_of_returns',\n",
       " 38: 'amount',\n",
       " 39: 'taxable_pensions_and_annuities_number_of_returns',\n",
       " 40: 'amount',\n",
       " 41: 'total_rental_and_royalty_net_income_number_of_returns',\n",
       " 42: 'amount',\n",
       " 43: 'total_rental_and_royalty_net_loss_number_of_returns',\n",
       " 44: 'amount',\n",
       " 45: 'farm_rental_net_income_less_loss_number_of_returns',\n",
       " 46: 'amount',\n",
       " 47: 'partnership_and_s_corporation_net_income_less_loss_number_of_returns',\n",
       " 48: 'amount',\n",
       " 49: 'estate_and_trust_net_income_less_loss_number_of_returns',\n",
       " 50: 'amount',\n",
       " 51: 'farm_net_income_less_loss_number_of_returns',\n",
       " 52: 'amount',\n",
       " 53: 'unemployment_compensation_number_of_returns',\n",
       " 54: 'amount',\n",
       " 55: 'taxable_social_security_benefits_number_of_returns',\n",
       " 56: 'amount',\n",
       " 57: 'net_operating_loss_number_of_returns',\n",
       " 58: 'amount',\n",
       " 59: 'cancellation_of_debt_number_of_returns',\n",
       " 60: 'amount',\n",
       " 61: 'taxable_health_savings_account_distributions_number_of_returns',\n",
       " 62: 'amount',\n",
       " 63: 'foreign_earned_income_exclusion_number_of_returns',\n",
       " 64: 'amount',\n",
       " 65: 'gambling_earnings_number_of_returns',\n",
       " 66: 'amount',\n",
       " 67: 'other_income_less_loss_number_of_returns',\n",
       " 68: 'amount',\n",
       " 69: 'total_statutory_adjustments_number_of_returns',\n",
       " 70: 'amount',\n",
       " 71: 'itemized_deductions_total_3',\n",
       " 72: 'medical_and_dental_expenses_deduction_total_after_subtracting_agi_limitation_number_of_returns',\n",
       " 73: 'amount',\n",
       " 74: 'total_medical_expenses_number_of_returns',\n",
       " 75: 'amount',\n",
       " 76: 'agi_limitation_number_of_returns',\n",
       " 77: 'amount',\n",
       " 78: 'taxes_paid_deduction_total_number_of_returns',\n",
       " 79: 'amount',\n",
       " 80: 'total_state_and_local_taxes_total',\n",
       " 81: '',\n",
       " 82: 'state_and_local_income_taxes_or_general_sales_taxes_total',\n",
       " 83: '',\n",
       " 84: 'income_tax',\n",
       " 85: '',\n",
       " 86: 'general_sales_tax',\n",
       " 87: '',\n",
       " 88: 'real_estate_taxes',\n",
       " 89: '',\n",
       " 90: 'personal_property_taxes',\n",
       " 91: '',\n",
       " 92: 'limited_state_and_local_taxes_number_of_returns',\n",
       " 93: 'amount',\n",
       " 94: 'other_taxes_number_of_returns',\n",
       " 95: 'amount',\n",
       " 96: 'interest_paid_deduction_total_number_of_returns',\n",
       " 97: 'amount',\n",
       " 98: 'total_mortgage_interest_and_points_total',\n",
       " 99: '',\n",
       " 100: 'home_mortgage_interest_total',\n",
       " 101: '',\n",
       " 102: 'paid_to_financial_institutions',\n",
       " 103: '',\n",
       " 104: 'paid_to_individuals',\n",
       " 105: '',\n",
       " 106: 'deductible_points',\n",
       " 107: '',\n",
       " 108: 'investment_interest_expense_deduction_number_of_returns',\n",
       " 109: 'amount',\n",
       " 110: 'contributions_deduction_total_number_of_returns',\n",
       " 111: 'amount',\n",
       " 112: 'cash_contributions_number_of_returns',\n",
       " 113: 'amount',\n",
       " 114: 'other_than_cash_contributions_number_of_returns',\n",
       " 115: 'amount',\n",
       " 116: 'carryover_from_prior_years_number_of_returns',\n",
       " 117: 'amount',\n",
       " 118: 'unlimited_miscellaneous_deductions_total_4_number_of_returns',\n",
       " 119: 'amount',\n",
       " 120: 'gambling_loss_deduction_number_of_returns',\n",
       " 121: 'amount',\n",
       " 122: 'miscellaneous_deductions_other_than_gambling_number_of_returns',\n",
       " 123: 'amount',\n",
       " 124: 'taxable_income_number_of_returns',\n",
       " 125: 'amount',\n",
       " 126: 'alternative_minimum_tax_number_of_returns',\n",
       " 127: 'amount',\n",
       " 128: 'excess_advance_premium_tax_credit_repayment_number_of_returns',\n",
       " 129: 'amount',\n",
       " 130: 'income_tax_before_credits_number_of_returns',\n",
       " 131: 'amount',\n",
       " 132: 'total_tax_credits_number_of_returns',\n",
       " 133: 'amount',\n",
       " 134: 'income_tax_after_credits_number_of_returns',\n",
       " 135: 'amount',\n",
       " 136: 'total_income_tax_number_of_returns',\n",
       " 137: 'amount'}"
      ]
     },
     "execution_count": 107,
     "metadata": {},
     "output_type": "execute_result"
    }
   ],
   "source": [
    "numeric_to_text_headers"
   ]
  },
  {
   "cell_type": "code",
   "execution_count": 121,
   "metadata": {},
   "outputs": [],
   "source": [
    "def supplement_inadequate_text_headers(num_to_text_headers: dict) -> dict:\n",
    "    for num_header, text_header in numeric_to_text_headers.items():\n",
    "        if text_header == 'amount':\n",
    "            # extract prefix info from the col before it:\n",
    "            try:\n",
    "                preceeding_col_name = num_to_text_headers[num_header-1]\n",
    "                search_result = re.search('number', preceeding_col_name)\n",
    "                if search_result:\n",
    "                    prefix_end_index = search_result.span()[0]\n",
    "                    prefix = preceeding_col_name[0:prefix_end_index]\n",
    "                    num_to_text_headers[num_header] = prefix + text_header\n",
    "            except KeyError:\n",
    "                pass\n",
    "    return num_to_text_headers"
   ]
  },
  {
   "cell_type": "code",
   "execution_count": 122,
   "metadata": {},
   "outputs": [
    {
     "data": {
      "text/plain": [
       "{1: 'number_of_returns',\n",
       " 2: 'adjusted_gross_income_less_deficit',\n",
       " 3: 'total_income_number_of_returns',\n",
       " 4: 'total_income_amount',\n",
       " 5: 'total_wages_total_1_number_of_returns',\n",
       " 6: 'total_wages_total_1_amount',\n",
       " 7: 'total_from_form_w_2_wages_number_of_returns',\n",
       " 8: 'total_from_form_w_2_wages_amount',\n",
       " 9: 'household_employee_wages_not_reported_on_form_w_2_number_of_returns',\n",
       " 10: 'household_employee_wages_not_reported_on_form_w_2_amount',\n",
       " 11: 'tip_income_not_reported_on_form_w_2_wages_number_of_returns',\n",
       " 12: 'tip_income_not_reported_on_form_w_2_wages_amount',\n",
       " 13: 'taxable_dependent_care_benefits_from_form_2441_number_of_returns',\n",
       " 14: 'taxable_dependent_care_benefits_from_form_2441_amount',\n",
       " 15: 'wages_from_form_8919_number_of_returns',\n",
       " 16: 'wages_from_form_8919_amount',\n",
       " 17: 'other_earned_income_number_of_returns',\n",
       " 18: 'other_earned_income_amount',\n",
       " 19: 'taxable_interest_number_of_returns',\n",
       " 20: 'taxable_interest_amount',\n",
       " 21: 'tax_exempt_interest_2_number_of_returns',\n",
       " 22: 'tax_exempt_interest_2_amount',\n",
       " 23: 'ordinary_dividends_number_of_returns',\n",
       " 24: 'ordinary_dividends_amount',\n",
       " 25: 'qualified_dividends_2_number_of_returns',\n",
       " 26: 'qualified_dividends_2_amount',\n",
       " 27: 'state_income_tax_refunds_number_of_returns',\n",
       " 28: 'state_income_tax_refunds_amount',\n",
       " 29: 'alimony_received_number_of_returns',\n",
       " 30: 'alimony_received_amount',\n",
       " 31: 'business_or_profession_net_income_less_loss_number_of_returns',\n",
       " 32: 'business_or_profession_net_income_less_loss_amount',\n",
       " 33: 'sales_of_capital_assets,_net_gain_less_loss_number_of_returns',\n",
       " 34: 'sales_of_capital_assets,_net_gain_less_loss_amount',\n",
       " 35: 'sales_of_property_other_than_capital_assets,_net_gain_less_loss_number_of_returns',\n",
       " 36: 'sales_of_property_other_than_capital_assets,_net_gain_less_loss_amount',\n",
       " 37: 'taxable_individual_retirement_arrangement_(ira)_distributions_number_of_returns',\n",
       " 38: 'taxable_individual_retirement_arrangement_(ira)_distributions_amount',\n",
       " 39: 'taxable_pensions_and_annuities_number_of_returns',\n",
       " 40: 'taxable_pensions_and_annuities_amount',\n",
       " 41: 'total_rental_and_royalty_net_income_number_of_returns',\n",
       " 42: 'total_rental_and_royalty_net_income_amount',\n",
       " 43: 'total_rental_and_royalty_net_loss_number_of_returns',\n",
       " 44: 'total_rental_and_royalty_net_loss_amount',\n",
       " 45: 'farm_rental_net_income_less_loss_number_of_returns',\n",
       " 46: 'farm_rental_net_income_less_loss_amount',\n",
       " 47: 'partnership_and_s_corporation_net_income_less_loss_number_of_returns',\n",
       " 48: 'partnership_and_s_corporation_net_income_less_loss_amount',\n",
       " 49: 'estate_and_trust_net_income_less_loss_number_of_returns',\n",
       " 50: 'estate_and_trust_net_income_less_loss_amount',\n",
       " 51: 'farm_net_income_less_loss_number_of_returns',\n",
       " 52: 'farm_net_income_less_loss_amount',\n",
       " 53: 'unemployment_compensation_number_of_returns',\n",
       " 54: 'unemployment_compensation_amount',\n",
       " 55: 'taxable_social_security_benefits_number_of_returns',\n",
       " 56: 'taxable_social_security_benefits_amount',\n",
       " 57: 'net_operating_loss_number_of_returns',\n",
       " 58: 'net_operating_loss_amount',\n",
       " 59: 'cancellation_of_debt_number_of_returns',\n",
       " 60: 'cancellation_of_debt_amount',\n",
       " 61: 'taxable_health_savings_account_distributions_number_of_returns',\n",
       " 62: 'taxable_health_savings_account_distributions_amount',\n",
       " 63: 'foreign_earned_income_exclusion_number_of_returns',\n",
       " 64: 'foreign_earned_income_exclusion_amount',\n",
       " 65: 'gambling_earnings_number_of_returns',\n",
       " 66: 'gambling_earnings_amount',\n",
       " 67: 'other_income_less_loss_number_of_returns',\n",
       " 68: 'other_income_less_loss_amount',\n",
       " 69: 'total_statutory_adjustments_number_of_returns',\n",
       " 70: 'total_statutory_adjustments_amount',\n",
       " 71: 'itemized_deductions_total_3',\n",
       " 72: 'medical_and_dental_expenses_deduction_total_after_subtracting_agi_limitation_number_of_returns',\n",
       " 73: 'medical_and_dental_expenses_deduction_total_after_subtracting_agi_limitation_amount',\n",
       " 74: 'total_medical_expenses_number_of_returns',\n",
       " 75: 'total_medical_expenses_amount',\n",
       " 76: 'agi_limitation_number_of_returns',\n",
       " 77: 'agi_limitation_amount',\n",
       " 78: 'taxes_paid_deduction_total_number_of_returns',\n",
       " 79: 'taxes_paid_deduction_total_amount',\n",
       " 80: 'total_state_and_local_taxes_total',\n",
       " 81: '',\n",
       " 82: 'state_and_local_income_taxes_or_general_sales_taxes_total',\n",
       " 83: '',\n",
       " 84: 'income_tax',\n",
       " 85: '',\n",
       " 86: 'general_sales_tax',\n",
       " 87: '',\n",
       " 88: 'real_estate_taxes',\n",
       " 89: '',\n",
       " 90: 'personal_property_taxes',\n",
       " 91: '',\n",
       " 92: 'limited_state_and_local_taxes_number_of_returns',\n",
       " 93: 'limited_state_and_local_taxes_amount',\n",
       " 94: 'other_taxes_number_of_returns',\n",
       " 95: 'other_taxes_amount',\n",
       " 96: 'interest_paid_deduction_total_number_of_returns',\n",
       " 97: 'interest_paid_deduction_total_amount',\n",
       " 98: 'total_mortgage_interest_and_points_total',\n",
       " 99: '',\n",
       " 100: 'home_mortgage_interest_total',\n",
       " 101: '',\n",
       " 102: 'paid_to_financial_institutions',\n",
       " 103: '',\n",
       " 104: 'paid_to_individuals',\n",
       " 105: '',\n",
       " 106: 'deductible_points',\n",
       " 107: '',\n",
       " 108: 'investment_interest_expense_deduction_number_of_returns',\n",
       " 109: 'investment_interest_expense_deduction_amount',\n",
       " 110: 'contributions_deduction_total_number_of_returns',\n",
       " 111: 'contributions_deduction_total_amount',\n",
       " 112: 'cash_contributions_number_of_returns',\n",
       " 113: 'cash_contributions_amount',\n",
       " 114: 'other_than_cash_contributions_number_of_returns',\n",
       " 115: 'other_than_cash_contributions_amount',\n",
       " 116: 'carryover_from_prior_years_number_of_returns',\n",
       " 117: 'carryover_from_prior_years_amount',\n",
       " 118: 'unlimited_miscellaneous_deductions_total_4_number_of_returns',\n",
       " 119: 'unlimited_miscellaneous_deductions_total_4_amount',\n",
       " 120: 'gambling_loss_deduction_number_of_returns',\n",
       " 121: 'gambling_loss_deduction_amount',\n",
       " 122: 'miscellaneous_deductions_other_than_gambling_number_of_returns',\n",
       " 123: 'miscellaneous_deductions_other_than_gambling_amount',\n",
       " 124: 'taxable_income_number_of_returns',\n",
       " 125: 'taxable_income_amount',\n",
       " 126: 'alternative_minimum_tax_number_of_returns',\n",
       " 127: 'alternative_minimum_tax_amount',\n",
       " 128: 'excess_advance_premium_tax_credit_repayment_number_of_returns',\n",
       " 129: 'excess_advance_premium_tax_credit_repayment_amount',\n",
       " 130: 'income_tax_before_credits_number_of_returns',\n",
       " 131: 'income_tax_before_credits_amount',\n",
       " 132: 'total_tax_credits_number_of_returns',\n",
       " 133: 'total_tax_credits_amount',\n",
       " 134: 'income_tax_after_credits_number_of_returns',\n",
       " 135: 'income_tax_after_credits_amount',\n",
       " 136: 'total_income_tax_number_of_returns',\n",
       " 137: 'total_income_tax_amount'}"
      ]
     },
     "execution_count": 122,
     "metadata": {},
     "output_type": "execute_result"
    }
   ],
   "source": [
    "supplement_inadequate_text_headers(numeric_to_text_headers)"
   ]
  },
  {
   "cell_type": "code",
   "execution_count": null,
   "metadata": {},
   "outputs": [],
   "source": []
  },
  {
   "cell_type": "code",
   "execution_count": 110,
   "metadata": {},
   "outputs": [
    {
     "data": {
      "text/plain": [
       "'income_tax_after_credits_number_of_returns'"
      ]
     },
     "execution_count": 110,
     "metadata": {},
     "output_type": "execute_result"
    }
   ],
   "source": [
    "'income_tax_after_credits_number_of_returns'"
   ]
  },
  {
   "cell_type": "code",
   "execution_count": 112,
   "metadata": {},
   "outputs": [],
   "source": [
    "foo = re.search('number', 'income_tax_after_credits_number_of_returns')"
   ]
  },
  {
   "cell_type": "code",
   "execution_count": 120,
   "metadata": {},
   "outputs": [
    {
     "data": {
      "text/plain": [
       "'income_tax_after_credits_'"
      ]
     },
     "execution_count": 120,
     "metadata": {},
     "output_type": "execute_result"
    }
   ],
   "source": [
    "'income_tax_after_credits_number_of_returns'[0:foo.span()[0]]"
   ]
  },
  {
   "cell_type": "code",
   "execution_count": null,
   "metadata": {},
   "outputs": [],
   "source": []
  }
 ],
 "metadata": {
  "kernelspec": {
   "display_name": "venv",
   "language": "python",
   "name": "python3"
  },
  "language_info": {
   "codemirror_mode": {
    "name": "ipython",
    "version": 3
   },
   "file_extension": ".py",
   "mimetype": "text/x-python",
   "name": "python",
   "nbconvert_exporter": "python",
   "pygments_lexer": "ipython3",
   "version": "3.12.6"
  }
 },
 "nbformat": 4,
 "nbformat_minor": 2
}
