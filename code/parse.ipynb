{
 "cells": [
  {
   "cell_type": "markdown",
   "metadata": {},
   "source": [
    "# Parsing Adjusted Gross Income Tax Tables\n",
    "John Mays | maysj@omb.nyc.gov | Created: 03/11/25 | Last Updated: 03/11/25\n",
    "\n",
    "Data is from the \"Individual income tax returns with exemptions and itemized deductions > Publication 1304\" category on the [IRS.gov website](https://www.irs.gov/statistics/soi-tax-stats-individual-statistical-tables-by-size-of-adjusted-gross-income)."
   ]
  },
  {
   "cell_type": "code",
   "execution_count": 1,
   "metadata": {},
   "outputs": [],
   "source": [
    "import pandas as pd\n",
    "import re\n",
    "from pathlib import Path\n",
    "from tqdm import tqdm # cool arabic word here: taqadum (meaning: progress) = تقدم"
   ]
  },
  {
   "cell_type": "code",
   "execution_count": 2,
   "metadata": {},
   "outputs": [],
   "source": [
    "data_directory = Path('../data')"
   ]
  },
  {
   "cell_type": "code",
   "execution_count": 3,
   "metadata": {},
   "outputs": [
    {
     "data": {
      "text/plain": [
       "[WindowsPath('../data/22in21id.xls'), WindowsPath('../data/99in21id.xls')]"
      ]
     },
     "execution_count": 3,
     "metadata": {},
     "output_type": "execute_result"
    }
   ],
   "source": [
    "list(data_directory.glob('*.xl*'))"
   ]
  },
  {
   "cell_type": "markdown",
   "metadata": {},
   "source": [
    "## Collecting all of the files into dataframes:"
   ]
  },
  {
   "cell_type": "code",
   "execution_count": 4,
   "metadata": {},
   "outputs": [],
   "source": [
    "def collect_files(dir: Path) -> dict:\n",
    "    sheets = {}\n",
    "    for sheet_path in tqdm([path for path in data_directory.glob('*.xl*')]):\n",
    "        sheets[sheet_path.name] = pd.read_excel(sheet_path, header=None)\n",
    "    return sheets"
   ]
  },
  {
   "cell_type": "code",
   "execution_count": 5,
   "metadata": {},
   "outputs": [
    {
     "name": "stderr",
     "output_type": "stream",
     "text": [
      "100%|██████████| 2/2 [00:00<00:00, 14.79it/s]\n"
     ]
    }
   ],
   "source": [
    "sheets = collect_files(data_directory)"
   ]
  },
  {
   "cell_type": "markdown",
   "metadata": {},
   "source": [
    "## Finding the Total Returns Cells:"
   ]
  },
  {
   "cell_type": "code",
   "execution_count": 6,
   "metadata": {},
   "outputs": [],
   "source": [
    "sheet = next(iter(sheets.values()))"
   ]
  },
  {
   "cell_type": "code",
   "execution_count": 8,
   "metadata": {},
   "outputs": [],
   "source": [
    "def find_total_returns_cells(sheet:pd.DataFrame) -> list:\n",
    "    indices = []\n",
    "    for column in sheet.columns:\n",
    "        col_matches = sheet[column].str.match(\n",
    "            r\"^taxable[, ]*returns[, ]*total\", flags=re.IGNORECASE, na=False\n",
    "        )\n",
    "        row_indices = list(sheet.index[col_matches])\n",
    "        if row_indices:\n",
    "            indices += [(r, column) for r in row_indices]\n",
    "    return indices\n"
   ]
  },
  {
   "cell_type": "code",
   "execution_count": 9,
   "metadata": {},
   "outputs": [],
   "source": [
    "total_returns_cells = find_total_returns_cells(sheet)"
   ]
  },
  {
   "cell_type": "code",
   "execution_count": 10,
   "metadata": {},
   "outputs": [
    {
     "name": "stdout",
     "output_type": "stream",
     "text": [
      "Taxable returns, total\n"
     ]
    }
   ],
   "source": [
    "for row, col in total_returns_cells:\n",
    "    print(sheet.iloc[row, col])"
   ]
  }
 ],
 "metadata": {
  "kernelspec": {
   "display_name": "venv",
   "language": "python",
   "name": "python3"
  },
  "language_info": {
   "codemirror_mode": {
    "name": "ipython",
    "version": 3
   },
   "file_extension": ".py",
   "mimetype": "text/x-python",
   "name": "python",
   "nbconvert_exporter": "python",
   "pygments_lexer": "ipython3",
   "version": "3.12.6"
  }
 },
 "nbformat": 4,
 "nbformat_minor": 2
}
