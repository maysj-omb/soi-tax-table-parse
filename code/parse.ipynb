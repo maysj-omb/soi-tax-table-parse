{
 "cells": [
  {
   "cell_type": "markdown",
   "metadata": {},
   "source": [
    "# Parsing Statistics of Income (SOI) Tax Tables from the IRS\n",
    "John Mays | maysj@omb.nyc.gov | Created: 03/11/25 | Last Updated: 03/11/25\n",
    "\n",
    "Data is from the \"Individual income tax returns with exemptions and itemized deductions > Publication 1304\" category on the [IRS.gov website](https://www.irs.gov/statistics/soi-tax-stats-individual-statistical-tables-by-size-of-adjusted-gross-income)."
   ]
  },
  {
   "cell_type": "code",
   "execution_count": 1,
   "metadata": {},
   "outputs": [],
   "source": [
    "import pandas as pd\n",
    "import re\n",
    "from pathlib import Path\n",
    "from tqdm import tqdm # cool arabic word here: taqadum (meaning: progress) = تقدم"
   ]
  },
  {
   "cell_type": "code",
   "execution_count": 2,
   "metadata": {},
   "outputs": [],
   "source": [
    "data_directory = Path('../data')"
   ]
  },
  {
   "cell_type": "markdown",
   "metadata": {},
   "source": [
    "## Collecting all of the files into dataframes:"
   ]
  },
  {
   "cell_type": "code",
   "execution_count": 3,
   "metadata": {},
   "outputs": [],
   "source": [
    "def collect_files(dir: Path) -> dict:\n",
    "    sheets = {}\n",
    "    for sheet_path in tqdm([path for path in data_directory.glob('*.xl*')]):\n",
    "        sheets[sheet_path.name] = pd.read_excel(sheet_path, header=None)\n",
    "    return sheets"
   ]
  },
  {
   "cell_type": "code",
   "execution_count": 4,
   "metadata": {},
   "outputs": [
    {
     "name": "stderr",
     "output_type": "stream",
     "text": [
      "  0%|          | 0/2 [00:00<?, ?it/s]"
     ]
    },
    {
     "name": "stderr",
     "output_type": "stream",
     "text": [
      "100%|██████████| 2/2 [00:00<00:00, 14.33it/s]\n"
     ]
    }
   ],
   "source": [
    "sheets = collect_files(data_directory)"
   ]
  },
  {
   "cell_type": "markdown",
   "metadata": {},
   "source": [
    "## Finding the Total Returns Cells:"
   ]
  },
  {
   "cell_type": "code",
   "execution_count": 5,
   "metadata": {},
   "outputs": [],
   "source": [
    "sheet_names = list(sheets.keys())"
   ]
  },
  {
   "cell_type": "code",
   "execution_count": 6,
   "metadata": {},
   "outputs": [],
   "source": [
    "sheet = sheets[sheet_names[1]]"
   ]
  },
  {
   "cell_type": "code",
   "execution_count": 7,
   "metadata": {},
   "outputs": [],
   "source": [
    "def find_total_returns_cells(sheet:pd.DataFrame) -> list:\n",
    "    indices = []\n",
    "    for column in sheet.columns:\n",
    "        col_matches = sheet[column].str.match(\n",
    "            r\"^taxable[, ]*returns[, ]*total\", flags=re.IGNORECASE, na=False\n",
    "        )\n",
    "        row_indices = list(sheet.index[col_matches])\n",
    "        if row_indices:\n",
    "            indices += [(r, column) for r in row_indices]\n",
    "    return indices\n"
   ]
  },
  {
   "cell_type": "code",
   "execution_count": 8,
   "metadata": {},
   "outputs": [],
   "source": [
    "total_returns_cells = find_total_returns_cells(sheet)"
   ]
  },
  {
   "cell_type": "code",
   "execution_count": 9,
   "metadata": {},
   "outputs": [
    {
     "name": "stdout",
     "output_type": "stream",
     "text": [
      "row: 26, col: 0 -- Taxable returns, total\n",
      "row: 53, col: 0 -- Taxable returns, total\n",
      "row: 84, col: 0 -- Taxable returns, total\n",
      "row: 111, col: 0 -- Taxable returns, total\n",
      "row: 143, col: 0 -- Taxable returns, total\n",
      "row: 172, col: 0 -- Taxable returns, total\n",
      "row: 205, col: 0 -- Taxable returns, total\n",
      "row: 233, col: 0 -- Taxable returns, total\n",
      "row: 266, col: 0 -- Taxable returns, total\n",
      "row: 292, col: 0 -- Taxable returns, total\n"
     ]
    }
   ],
   "source": [
    "for row, col in total_returns_cells:\n",
    "    print(f'row: {row}, col: {col} -- {sheet.iloc[row, col]}')"
   ]
  },
  {
   "cell_type": "markdown",
   "metadata": {},
   "source": [
    "## Finding Likely Header Rows:\n",
    "In the data, the header rows are displayed like: (1) (2) (3)... or perhaps (11) (12) (13)...\n",
    "\n",
    "These can show up in one of two ways when imported into pandas: as negative or positive values.\n",
    "\n",
    "Either way, it is a repeating series of values horizontally decrementing or incrementing by 1, so it should be easy to find.\n"
   ]
  },
  {
   "cell_type": "code",
   "execution_count": 10,
   "metadata": {},
   "outputs": [],
   "source": [
    "likely_header_rows = []\n",
    "threshold = 5\n",
    "\n",
    "for row_index in sheet.index:\n",
    "    row = sheet.iloc[row_index, :]\n",
    "    one_increments = 0\n",
    "    prev_value = None\n",
    "    for value in row:\n",
    "        if isinstance(value, int) and isinstance(prev_value, int):\n",
    "            if abs(value - prev_value) == 1:\n",
    "                one_increments += 1\n",
    "        prev_value = value\n",
    "    if one_increments > threshold:\n",
    "        likely_header_rows.append(row_index)"
   ]
  },
  {
   "cell_type": "code",
   "execution_count": 11,
   "metadata": {},
   "outputs": [
    {
     "data": {
      "text/plain": [
       "[6, 33, 64, 91, 123, 152, 185, 213, 246, 272]"
      ]
     },
     "execution_count": 11,
     "metadata": {},
     "output_type": "execute_result"
    }
   ],
   "source": [
    "likely_header_rows"
   ]
  },
  {
   "cell_type": "code",
   "execution_count": 12,
   "metadata": {},
   "outputs": [],
   "source": [
    "cell_index = total_returns_cells[0]\n",
    "cell = sheet.iloc[*cell_index]"
   ]
  },
  {
   "cell_type": "markdown",
   "metadata": {},
   "source": [
    "## Finding the values of the total returns:"
   ]
  },
  {
   "cell_type": "code",
   "execution_count": 13,
   "metadata": {},
   "outputs": [],
   "source": [
    "tr_row, tr_column = cell_index"
   ]
  },
  {
   "cell_type": "code",
   "execution_count": 14,
   "metadata": {},
   "outputs": [],
   "source": [
    "possible_numeric_indices = [(tr_row, col) for col in sheet.columns if col > tr_column]"
   ]
  },
  {
   "cell_type": "code",
   "execution_count": 15,
   "metadata": {},
   "outputs": [],
   "source": [
    "indices_and_tr_values = {}"
   ]
  },
  {
   "cell_type": "code",
   "execution_count": 16,
   "metadata": {},
   "outputs": [],
   "source": [
    "for index in possible_numeric_indices:\n",
    "    value = sheet.iloc[*index]\n",
    "    if isinstance(value, (int, float)): # then the value is numeric & valid\n",
    "        indices_and_tr_values[index] = value"
   ]
  },
  {
   "cell_type": "code",
   "execution_count": 17,
   "metadata": {},
   "outputs": [
    {
     "data": {
      "text/plain": [
       "{(26, 1): 37532174,\n",
       " (26, 2): 3795660097,\n",
       " (26, 3): 33601376,\n",
       " (26, 4): 2537788820,\n",
       " (26, 5): 30342268,\n",
       " (26, 6): 99299119,\n",
       " (26, 7): 2988667,\n",
       " (26, 8): 42329459,\n",
       " (26, 9): 16803873,\n",
       " (26, 10): 96091083,\n",
       " (26, 11): 18389163,\n",
       " (26, 12): 16409845}"
      ]
     },
     "execution_count": 17,
     "metadata": {},
     "output_type": "execute_result"
    }
   ],
   "source": [
    "indices_and_tr_values"
   ]
  },
  {
   "cell_type": "markdown",
   "metadata": {},
   "source": [
    "## Attaching total return values to numeric headers:"
   ]
  },
  {
   "cell_type": "code",
   "execution_count": 18,
   "metadata": {},
   "outputs": [],
   "source": [
    "numeric_headers_and_values = {}\n",
    "for index, value in indices_and_tr_values.items():\n",
    "    value_row, value_column = index\n",
    "    # finds the closest header row that is above this value:\n",
    "    corresponding_header_row = max([row for row in likely_header_rows if row < value_row])\n",
    "    numeric_header = sheet.iloc[corresponding_header_row, value_column]\n",
    "    numeric_headers_and_values[numeric_header] = value"
   ]
  },
  {
   "cell_type": "code",
   "execution_count": 19,
   "metadata": {},
   "outputs": [
    {
     "data": {
      "text/plain": [
       "{-1: 37532174,\n",
       " -2: 3795660097,\n",
       " -3: 33601376,\n",
       " -4: 2537788820,\n",
       " -5: 30342268,\n",
       " -6: 99299119,\n",
       " -7: 2988667,\n",
       " -8: 42329459,\n",
       " -9: 16803873,\n",
       " -10: 96091083,\n",
       " -11: 18389163,\n",
       " -12: 16409845}"
      ]
     },
     "execution_count": 19,
     "metadata": {},
     "output_type": "execute_result"
    }
   ],
   "source": [
    "numeric_headers_and_values"
   ]
  },
  {
   "cell_type": "markdown",
   "metadata": {},
   "source": [
    "## Associating Numeric Headers with Text Headers:"
   ]
  },
  {
   "cell_type": "code",
   "execution_count": 20,
   "metadata": {},
   "outputs": [],
   "source": [
    "limit = 7"
   ]
  },
  {
   "cell_type": "markdown",
   "metadata": {},
   "source": [
    "### Associating headers with indices:"
   ]
  },
  {
   "cell_type": "code",
   "execution_count": 21,
   "metadata": {},
   "outputs": [],
   "source": [
    "indices_and_numeric_headers = {}\n",
    "\n",
    "for header_row_index in likely_header_rows:\n",
    "    header_row = sheet.iloc[header_row_index, :]\n",
    "    for potential_header_column, potential_header in zip(header_row.index, header_row):\n",
    "        if isinstance(potential_header, int) and potential_header < 1000:\n",
    "            header_index = (header_row_index, potential_header_column)\n",
    "            indices_and_numeric_headers[header_index] = potential_header"
   ]
  },
  {
   "cell_type": "code",
   "execution_count": 22,
   "metadata": {},
   "outputs": [],
   "source": [
    "def assemble_header(segments:list):\n",
    "    segments_text_only = [s for s in segments if isinstance(s, str)]\n",
    "    header = '_'.join(segments_text_only)\n",
    "    header = re.sub(r\"\\[|\\]|-| |_|\\\\|\\/|//|\\n\", \"_\", header) # replace special chars\n",
    "    header = '_'.join([s for s in header.split('_') if s != '']) # de-duplicate underscores\n",
    "    header = header.lower()\n",
    "    return header"
   ]
  },
  {
   "cell_type": "code",
   "execution_count": 47,
   "metadata": {},
   "outputs": [],
   "source": [
    "numeric_to_text_headers = {}\n",
    "\n",
    "for header_index, numeric_header in indices_and_numeric_headers.items():\n",
    "    header_row, header_col = header_index\n",
    "    lesser_row_index = max(header_row-8, 0)\n",
    "    greater_row_index = max(header_row, 0)\n",
    "    text_header_segments = list(sheet.iloc[lesser_row_index:greater_row_index, header_col])\n",
    "    numeric_to_text_headers[numeric_header] = assemble_header(text_header_segments)"
   ]
  },
  {
   "cell_type": "code",
   "execution_count": 48,
   "metadata": {},
   "outputs": [
    {
     "data": {
      "text/plain": [
       "{-1: 'number_of_returns',\n",
       " -2: 'adjusted_gross_income_less_deficit',\n",
       " -3: 'salaries_and_wages_number_of_returns',\n",
       " -4: 'amount',\n",
       " -5: 'taxable_interest_number_of_returns',\n",
       " -6: 'amount',\n",
       " -7: 'tax_exempt_interest_number_of_returns',\n",
       " -8: 'amount',\n",
       " -9: 'dividends_number_of_returns',\n",
       " -10: 'amount',\n",
       " -11: 'state_income_tax_refunds_number_of_returns',\n",
       " -12: 'amount',\n",
       " -13: 'alimony_received_number_of_returns',\n",
       " -14: 'amount',\n",
       " -15: 'business_or_profession_net_income_less_loss_number_of_returns',\n",
       " -16: 'amount',\n",
       " -17: 'sales_of_capital_assets_net_gain_less_loss_number_of_returns',\n",
       " -18: 'amount',\n",
       " -19: 'sales_of_property_other_than_capital_assets_number_of_returns',\n",
       " -20: 'amount',\n",
       " -21: 'taxable_ira_distributions_number_of_returns',\n",
       " -22: 'amount',\n",
       " -23: 'taxable_pensions_and_annuities_number_of_returns',\n",
       " -24: 'amount',\n",
       " -25: 'rent_and_royalty_net_income_number_of_returns',\n",
       " -26: 'amount',\n",
       " -27: 'rent_and_royalty_net_loss_number_of_returns',\n",
       " -28: 'amount',\n",
       " -29: 'farm_rental_net_income_less_loss_number_of_returns',\n",
       " -30: 'amount',\n",
       " -31: 'partnership_and_s_corporation_net_income_less_loss_number_of_returns',\n",
       " -32: 'amount',\n",
       " -33: 'estate_and_trust_net_income_less_loss_number_of_returns',\n",
       " -34: 'amount',\n",
       " -35: 'farm_net_income_less_loss_number_of_returns',\n",
       " -36: 'amount',\n",
       " -37: 'unemployment_compensation_number_of_returns',\n",
       " -38: 'amount',\n",
       " -39: 'taxable_social_security_benefits_number_of_returns',\n",
       " -40: 'amount',\n",
       " -41: 'foreign_earned_income_exclusion_number_of_returns',\n",
       " -42: 'amount',\n",
       " -43: 'other_income_less_loss_number_of_returns',\n",
       " -44: 'amount',\n",
       " -45: 'total_statutory_adjustments_number_of_returns',\n",
       " -46: 'amount',\n",
       " -47: 'total_itemized_deductions_total_in_taxable_income',\n",
       " -48: 'itemized_deductions_limitation_number_of_returns',\n",
       " -49: 'amount',\n",
       " -50: 'medical_and_dental_expenses_deduction_number_of_returns',\n",
       " -51: 'amount',\n",
       " -52: 'medical_and_dental_expenses_number_of_returns',\n",
       " -53: 'amount',\n",
       " -54: 'medical_and_dental_expenses_limitation_number_of_returns',\n",
       " -55: 'amount',\n",
       " -56: 'taxes_paid_deduction_total_number_of_returns',\n",
       " -57: 'amount',\n",
       " -58: 'total_itemized_deductions_continued_taxes_paid_deduction_continued_state_and_local_income_taxes_number_of_returns',\n",
       " -59: 'amount',\n",
       " -60: 'real_estate_taxes_number_of_returns',\n",
       " -61: 'amount',\n",
       " -62: 'personal_property_taxes_number_of_returns',\n",
       " -63: 'amount',\n",
       " -64: 'other_taxes_number_of_returns',\n",
       " -65: 'amount',\n",
       " -66: 'interest_paid_deduction_total_number_of_returns',\n",
       " -67: 'amount',\n",
       " -68: 'home_mortgage_interest_total_number_of_returns',\n",
       " -69: 'amount',\n",
       " -70: 'total_itemized_deductions_continued_home_mortgage_interest_continued_paid_to_financial_institutions_number_of_returns',\n",
       " -71: 'amount',\n",
       " -72: 'paid_to_individuals_number_of_returns',\n",
       " -73: 'interest_paid_deduction_continued_amount',\n",
       " -74: 'deductible_points_number_of_returns',\n",
       " -75: 'amount',\n",
       " -76: 'investment_interest_expense_deduction_number_of_returns',\n",
       " -77: 'amount',\n",
       " -78: 'contributions_deduction_total_number_of_returns',\n",
       " -79: 'amount',\n",
       " -80: 'cash_contributions_number_of_returns',\n",
       " -81: 'amount',\n",
       " -82: 'total_itemized_deductions_continued_contributions_deduction_continued_other_than_cash_contributions_number_of_returns',\n",
       " -83: 'amount',\n",
       " -84: 'carryover_from_prior_years_number_of_returns',\n",
       " -85: 'amount',\n",
       " -86: 'casualty_or_theft_loss_deduction_number_of_returns',\n",
       " -87: 'amount',\n",
       " -88: 'miscellaneous_deductions_subject_to_2%_agi_limitation_total_number_of_returns',\n",
       " -89: 'amount',\n",
       " -90: 'unreimbursed_employee_business_expense_number_of_returns',\n",
       " -91: 'amount',\n",
       " -92: 'total_itemized_deductions_continued_miscellaneous_deductions_subject_to_2%_agi_limitation_continued_tax_preparation_fees_number_of_returns',\n",
       " -93: 'amount',\n",
       " -94: 'gambling_loss_deduction_number_of_returns',\n",
       " -95: 'amount',\n",
       " -96: 'miscellaneous_deductions_other_than_gambling_number_of_returns',\n",
       " -97: 'amount',\n",
       " -98: 'total_unlimited_miscellaneous_deduction_number_of_returns',\n",
       " -99: 'amount',\n",
       " -100: 'exemptions_number_of_exemptions',\n",
       " -101: 'amount',\n",
       " -102: 'taxable_income_number_of_returns',\n",
       " -103: 'amount',\n",
       " -104: 'income_tax_before_credits_number_of_returns',\n",
       " -105: 'amount',\n",
       " -106: 'total_tax_credits_number_of_returns',\n",
       " -107: 'amount',\n",
       " -108: 'income_tax_after_credits_number_of_returns',\n",
       " -109: 'amount',\n",
       " -110: 'alternative_minimum_tax_number_of_returns',\n",
       " -111: 'amount',\n",
       " -112: 'total_income_tax_number_of_returns',\n",
       " -113: 'amount'}"
      ]
     },
     "execution_count": 48,
     "metadata": {},
     "output_type": "execute_result"
    }
   ],
   "source": [
    "numeric_to_text_headers"
   ]
  },
  {
   "cell_type": "code",
   "execution_count": 49,
   "metadata": {},
   "outputs": [],
   "source": [
    "def supplement_inadequate_text_headers(num_to_text_headers: dict) -> dict:\n",
    "    for num_header, text_header in numeric_to_text_headers.items():\n",
    "        if text_header == 'amount':\n",
    "            # extract prefix info from the col before it:\n",
    "            try:\n",
    "                preceeding_col_index = -(abs(num_header)-1) if num_header < 0 else abs(num_header)-1\n",
    "                preceeding_col_name = num_to_text_headers[preceeding_col_index]\n",
    "                search_result = re.search('number', preceeding_col_name)\n",
    "                if search_result:\n",
    "                    prefix_end_index = search_result.span()[0]\n",
    "                    prefix = preceeding_col_name[0:prefix_end_index]\n",
    "                    num_to_text_headers[num_header] = prefix + text_header\n",
    "            except KeyError:\n",
    "                pass\n",
    "    return num_to_text_headers"
   ]
  },
  {
   "cell_type": "code",
   "execution_count": 50,
   "metadata": {},
   "outputs": [
    {
     "data": {
      "text/plain": [
       "{-1: 'number_of_returns',\n",
       " -2: 'adjusted_gross_income_less_deficit',\n",
       " -3: 'salaries_and_wages_number_of_returns',\n",
       " -4: 'salaries_and_wages_amount',\n",
       " -5: 'taxable_interest_number_of_returns',\n",
       " -6: 'taxable_interest_amount',\n",
       " -7: 'tax_exempt_interest_number_of_returns',\n",
       " -8: 'tax_exempt_interest_amount',\n",
       " -9: 'dividends_number_of_returns',\n",
       " -10: 'dividends_amount',\n",
       " -11: 'state_income_tax_refunds_number_of_returns',\n",
       " -12: 'state_income_tax_refunds_amount',\n",
       " -13: 'alimony_received_number_of_returns',\n",
       " -14: 'alimony_received_amount',\n",
       " -15: 'business_or_profession_net_income_less_loss_number_of_returns',\n",
       " -16: 'business_or_profession_net_income_less_loss_amount',\n",
       " -17: 'sales_of_capital_assets_net_gain_less_loss_number_of_returns',\n",
       " -18: 'sales_of_capital_assets_net_gain_less_loss_amount',\n",
       " -19: 'sales_of_property_other_than_capital_assets_number_of_returns',\n",
       " -20: 'sales_of_property_other_than_capital_assets_amount',\n",
       " -21: 'taxable_ira_distributions_number_of_returns',\n",
       " -22: 'taxable_ira_distributions_amount',\n",
       " -23: 'taxable_pensions_and_annuities_number_of_returns',\n",
       " -24: 'taxable_pensions_and_annuities_amount',\n",
       " -25: 'rent_and_royalty_net_income_number_of_returns',\n",
       " -26: 'rent_and_royalty_net_income_amount',\n",
       " -27: 'rent_and_royalty_net_loss_number_of_returns',\n",
       " -28: 'rent_and_royalty_net_loss_amount',\n",
       " -29: 'farm_rental_net_income_less_loss_number_of_returns',\n",
       " -30: 'farm_rental_net_income_less_loss_amount',\n",
       " -31: 'partnership_and_s_corporation_net_income_less_loss_number_of_returns',\n",
       " -32: 'partnership_and_s_corporation_net_income_less_loss_amount',\n",
       " -33: 'estate_and_trust_net_income_less_loss_number_of_returns',\n",
       " -34: 'estate_and_trust_net_income_less_loss_amount',\n",
       " -35: 'farm_net_income_less_loss_number_of_returns',\n",
       " -36: 'farm_net_income_less_loss_amount',\n",
       " -37: 'unemployment_compensation_number_of_returns',\n",
       " -38: 'unemployment_compensation_amount',\n",
       " -39: 'taxable_social_security_benefits_number_of_returns',\n",
       " -40: 'taxable_social_security_benefits_amount',\n",
       " -41: 'foreign_earned_income_exclusion_number_of_returns',\n",
       " -42: 'foreign_earned_income_exclusion_amount',\n",
       " -43: 'other_income_less_loss_number_of_returns',\n",
       " -44: 'other_income_less_loss_amount',\n",
       " -45: 'total_statutory_adjustments_number_of_returns',\n",
       " -46: 'total_statutory_adjustments_amount',\n",
       " -47: 'total_itemized_deductions_total_in_taxable_income',\n",
       " -48: 'itemized_deductions_limitation_number_of_returns',\n",
       " -49: 'itemized_deductions_limitation_amount',\n",
       " -50: 'medical_and_dental_expenses_deduction_number_of_returns',\n",
       " -51: 'medical_and_dental_expenses_deduction_amount',\n",
       " -52: 'medical_and_dental_expenses_number_of_returns',\n",
       " -53: 'medical_and_dental_expenses_amount',\n",
       " -54: 'medical_and_dental_expenses_limitation_number_of_returns',\n",
       " -55: 'medical_and_dental_expenses_limitation_amount',\n",
       " -56: 'taxes_paid_deduction_total_number_of_returns',\n",
       " -57: 'taxes_paid_deduction_total_amount',\n",
       " -58: 'total_itemized_deductions_continued_taxes_paid_deduction_continued_state_and_local_income_taxes_number_of_returns',\n",
       " -59: 'total_itemized_deductions_continued_taxes_paid_deduction_continued_state_and_local_income_taxes_amount',\n",
       " -60: 'real_estate_taxes_number_of_returns',\n",
       " -61: 'real_estate_taxes_amount',\n",
       " -62: 'personal_property_taxes_number_of_returns',\n",
       " -63: 'personal_property_taxes_amount',\n",
       " -64: 'other_taxes_number_of_returns',\n",
       " -65: 'other_taxes_amount',\n",
       " -66: 'interest_paid_deduction_total_number_of_returns',\n",
       " -67: 'interest_paid_deduction_total_amount',\n",
       " -68: 'home_mortgage_interest_total_number_of_returns',\n",
       " -69: 'home_mortgage_interest_total_amount',\n",
       " -70: 'total_itemized_deductions_continued_home_mortgage_interest_continued_paid_to_financial_institutions_number_of_returns',\n",
       " -71: 'total_itemized_deductions_continued_home_mortgage_interest_continued_paid_to_financial_institutions_amount',\n",
       " -72: 'paid_to_individuals_number_of_returns',\n",
       " -73: 'interest_paid_deduction_continued_amount',\n",
       " -74: 'deductible_points_number_of_returns',\n",
       " -75: 'deductible_points_amount',\n",
       " -76: 'investment_interest_expense_deduction_number_of_returns',\n",
       " -77: 'investment_interest_expense_deduction_amount',\n",
       " -78: 'contributions_deduction_total_number_of_returns',\n",
       " -79: 'contributions_deduction_total_amount',\n",
       " -80: 'cash_contributions_number_of_returns',\n",
       " -81: 'cash_contributions_amount',\n",
       " -82: 'total_itemized_deductions_continued_contributions_deduction_continued_other_than_cash_contributions_number_of_returns',\n",
       " -83: 'total_itemized_deductions_continued_contributions_deduction_continued_other_than_cash_contributions_amount',\n",
       " -84: 'carryover_from_prior_years_number_of_returns',\n",
       " -85: 'carryover_from_prior_years_amount',\n",
       " -86: 'casualty_or_theft_loss_deduction_number_of_returns',\n",
       " -87: 'casualty_or_theft_loss_deduction_amount',\n",
       " -88: 'miscellaneous_deductions_subject_to_2%_agi_limitation_total_number_of_returns',\n",
       " -89: 'miscellaneous_deductions_subject_to_2%_agi_limitation_total_amount',\n",
       " -90: 'unreimbursed_employee_business_expense_number_of_returns',\n",
       " -91: 'unreimbursed_employee_business_expense_amount',\n",
       " -92: 'total_itemized_deductions_continued_miscellaneous_deductions_subject_to_2%_agi_limitation_continued_tax_preparation_fees_number_of_returns',\n",
       " -93: 'total_itemized_deductions_continued_miscellaneous_deductions_subject_to_2%_agi_limitation_continued_tax_preparation_fees_amount',\n",
       " -94: 'gambling_loss_deduction_number_of_returns',\n",
       " -95: 'gambling_loss_deduction_amount',\n",
       " -96: 'miscellaneous_deductions_other_than_gambling_number_of_returns',\n",
       " -97: 'miscellaneous_deductions_other_than_gambling_amount',\n",
       " -98: 'total_unlimited_miscellaneous_deduction_number_of_returns',\n",
       " -99: 'total_unlimited_miscellaneous_deduction_amount',\n",
       " -100: 'exemptions_number_of_exemptions',\n",
       " -101: 'exemptions_amount',\n",
       " -102: 'taxable_income_number_of_returns',\n",
       " -103: 'taxable_income_amount',\n",
       " -104: 'income_tax_before_credits_number_of_returns',\n",
       " -105: 'income_tax_before_credits_amount',\n",
       " -106: 'total_tax_credits_number_of_returns',\n",
       " -107: 'total_tax_credits_amount',\n",
       " -108: 'income_tax_after_credits_number_of_returns',\n",
       " -109: 'income_tax_after_credits_amount',\n",
       " -110: 'alternative_minimum_tax_number_of_returns',\n",
       " -111: 'alternative_minimum_tax_amount',\n",
       " -112: 'total_income_tax_number_of_returns',\n",
       " -113: 'total_income_tax_amount'}"
      ]
     },
     "execution_count": 50,
     "metadata": {},
     "output_type": "execute_result"
    }
   ],
   "source": [
    "supplement_inadequate_text_headers(numeric_to_text_headers)"
   ]
  },
  {
   "cell_type": "code",
   "execution_count": null,
   "metadata": {},
   "outputs": [],
   "source": []
  }
 ],
 "metadata": {
  "kernelspec": {
   "display_name": "venv",
   "language": "python",
   "name": "python3"
  },
  "language_info": {
   "codemirror_mode": {
    "name": "ipython",
    "version": 3
   },
   "file_extension": ".py",
   "mimetype": "text/x-python",
   "name": "python",
   "nbconvert_exporter": "python",
   "pygments_lexer": "ipython3",
   "version": "3.12.6"
  }
 },
 "nbformat": 4,
 "nbformat_minor": 2
}
